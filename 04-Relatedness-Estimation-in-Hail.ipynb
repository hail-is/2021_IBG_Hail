{
 "cells": [
  {
   "cell_type": "markdown",
   "id": "95b5aa46",
   "metadata": {},
   "source": [
    "# Institute for Behavioral Genetics International Statistical Genetics 2023 Workshop \n",
    "\n",
    "## Genetic relatedness exploration with Hail\n",
    "\n",
    "In this practical, we will learn how to:\n",
    "\n",
    "1) Simulate random mating in Hail\n",
    "\n",
    "2) Run various relatedness estimation methods in Hail\n",
    "\n",
    "3) Use Hail to investigate how these methods work on a structured and admixed dataset"
   ]
  },
  {
   "cell_type": "markdown",
   "id": "79f1ab1c",
   "metadata": {},
   "source": [
    "# 1. Import and initialize Hail\n",
    "\n",
    "We import Hail, initialize it, and import some plotting tools as well."
   ]
  },
  {
   "cell_type": "code",
   "execution_count": null,
   "id": "b8682577",
   "metadata": {},
   "outputs": [],
   "source": [
    "import hail as hl\n",
    "hl.init()\n",
    "from hail.plot import output_notebook, show\n",
    "from bokeh.models import Slope\n",
    "output_notebook()"
   ]
  },
  {
   "cell_type": "markdown",
   "id": "7b2ef380",
   "metadata": {},
   "source": [
    "# 2. Read HGDP data, add population information, and run PCA\n",
    "\n",
    "This bit is a sped-up review from the first notebook. We want to have the principal component plot as reference for relatedness exploration below!"
   ]
  },
  {
   "cell_type": "code",
   "execution_count": null,
   "id": "dc72b665",
   "metadata": {},
   "outputs": [],
   "source": [
    "mt = hl.read_matrix_table('resources/hgdp.mt')\n",
    "sd = hl.import_table('resources/HGDP_sample_data.tsv',\n",
    "                     key='sample_id',\n",
    "                     impute=True)\n",
    "mt = mt.annotate_cols(sample_idx = hl.int(hl.scan.count()), sample_data = sd[mt.s])"
   ]
  },
  {
   "cell_type": "code",
   "execution_count": null,
   "id": "b032eb90",
   "metadata": {},
   "outputs": [],
   "source": [
    "_, scores, _ = hl.hwe_normalized_pca(mt.GT)"
   ]
  },
  {
   "cell_type": "code",
   "execution_count": null,
   "id": "ce33f466",
   "metadata": {},
   "outputs": [],
   "source": [
    "show(hl.plot.scatter(scores.scores[0], scores.scores[1], \n",
    "                     label=mt.index_cols(scores.key).sample_data.continental_pop,\n",
    "                     size=8,\n",
    "                     xlabel='PC1',\n",
    "                     ylabel='PC2'))"
   ]
  },
  {
   "cell_type": "markdown",
   "id": "65ae2b49",
   "metadata": {},
   "source": [
    "# 3. Simulate 3 generations of random mating.\n",
    "\n",
    "Hail contains a simple random mating simulator that can be a great tool for exploring relatedness and admixture in populations.\n",
    "\n",
    "The starting dataset is highly **structured** but less **admixed**. We can see distinct ancestral clusters with spaces  between. If we were to make the same plot of a random slice of the human population, the clusters would be connected by individuals falling on the clines between.\n",
    "\n",
    "Here we simulate three rounds of random mating, where each generation creates a number of pairs equal to half its generation size (with replacement, but no self-pairs), and each pair has two children. Each pair is within a single generation; pairs do not span generations. There are no restrictions on pair selection other than that a sample cannot pair with itself."
   ]
  },
  {
   "cell_type": "code",
   "execution_count": null,
   "id": "6d77838d",
   "metadata": {},
   "outputs": [],
   "source": [
    "mt1 = hl.simulate_random_mating(mt,\n",
    "                                pairs_per_generation_multiplier=0.5,\n",
    "                                children_per_pair=2,\n",
    "                                n_rounds=3,\n",
    "                                seed=5).key_cols_by('sample_idx')\n",
    "mt1 = mt1.annotate_cols(**mt.key_cols_by('sample_idx').index_cols(mt1.sample_idx).sample_data).persist()\n",
    "mt1.count()"
   ]
  },
  {
   "cell_type": "code",
   "execution_count": null,
   "id": "d0b874a9",
   "metadata": {},
   "outputs": [],
   "source": [
    "_, scores1, _ = hl.hwe_normalized_pca(mt1.GT)"
   ]
  },
  {
   "cell_type": "markdown",
   "id": "0b5cbddc",
   "metadata": {},
   "source": [
    "#### Take a few moments to explore and discuss the PC plot of the new dataset, and where the new samples fall. What structure is present?"
   ]
  },
  {
   "cell_type": "code",
   "execution_count": null,
   "id": "549358a1",
   "metadata": {},
   "outputs": [],
   "source": [
    "show(hl.plot.scatter(scores1.scores[0], scores1.scores[1],\n",
    "                     label=mt1.index_cols(scores1.key).continental_pop,\n",
    "                     size=6,\n",
    "                     xlabel='PC1',\n",
    "                     ylabel='PC2'))"
   ]
  },
  {
   "cell_type": "markdown",
   "id": "a6d95069",
   "metadata": {},
   "source": [
    "# 4. Relatedness estimation\n",
    "\n",
    "Estimation of relatedness between individuals is a core tool in statistical genetics. It is commonly used to verify reported relatedness (both false negatives and false positives), and is an important input to statistical analysis.\n",
    "\n",
    "Some statistical analyses (for instance, GWAS using a simple linear regression) are built around the assumption that variance in genotypes and phenotypes are independent and identically distributed, and an estimated relatedness graph can be used to filter samples to an unrelated set before running these methods.\n",
    "\n",
    "Other methods, like SAIGE, explicitly account for sample covariance to produce statistically sound effect estimation for datasets with related samples."
   ]
  },
  {
   "cell_type": "markdown",
   "id": "894eac00",
   "metadata": {},
   "source": [
    "## Coefficient of kinship versus coefficient of relationship.\n",
    "\n",
    "The kinship coefficient estimated in methods below is defined as the probability that two homologous alleles drawn from each of two individuals are identical by descent. For diploid humans, the kinship coefficient for monozygotic twins is 0.5. The similar \"coefficient of relationship\", defined as the fraction of genetic material shared identically-by-descent, is equal to twice the kinship coefficient (1.0 for monozygotic twins). \n",
    "\n",
    "### Exercise\n",
    "\n",
    "What is the kinship coefficient for parent-child pairs?\n",
    "\n",
    "For full sibling pairs?\n",
    "\n",
    "2nd degree relatives (cousins)?"
   ]
  },
  {
   "cell_type": "markdown",
   "id": "ce21b4de",
   "metadata": {},
   "source": [
    "# 5. The KING estimator\n",
    "\n",
    "Description of the model goes here."
   ]
  },
  {
   "cell_type": "code",
   "execution_count": null,
   "id": "ce39cc53",
   "metadata": {},
   "outputs": [],
   "source": [
    "king = hl.king(mt1.GT).entries()\n",
    "king = king.filter(king.sample_idx != king.sample_idx_1) # remove self-comparisons"
   ]
  },
  {
   "cell_type": "markdown",
   "id": "b3e00c95",
   "metadata": {},
   "source": [
    "The below uses the relatedness graph produced by `simulate_random_mating` to look up the relatedness for a given pair, and adds a little bit of noise to make the plots look more realistic."
   ]
  },
  {
   "cell_type": "code",
   "execution_count": null,
   "id": "1beeec94",
   "metadata": {},
   "outputs": [],
   "source": [
    "rel = mt1.index_globals().relatedness\n",
    "def get_rel(s1, s2):\n",
    "    return (hl.case()\n",
    "            .when(s1 == s2, 0.5)\n",
    "            .when(s1 > s2, hl.coalesce(rel.get(s1).get(s2), 0.0))\n",
    "            .default(hl.coalesce(rel.get(s2).get(s1), 0.0))) + hl.rand_norm(0, 0.005) # jitter"
   ]
  },
  {
   "cell_type": "markdown",
   "id": "270cc488",
   "metadata": {},
   "source": [
    "Now we'll make a plot!"
   ]
  },
  {
   "cell_type": "code",
   "execution_count": null,
   "id": "c00ce944",
   "metadata": {},
   "outputs": [],
   "source": [
    "fig = hl.plot.scatter(get_rel(king.sample_idx, king.sample_idx_1),\n",
    "                      king.phi, \n",
    "                      xlabel='True kinship', \n",
    "                      ylabel='King phi (estimated kinship)',\n",
    "                      hover_fields={'id1': king.sample_idx, 'id2': king.sample_idx_1})\n",
    "\n",
    "fig.add_layout(Slope(gradient=1, y_intercept=0, line_color='red', line_dash='dashed'))\n",
    "show(fig)"
   ]
  },
  {
   "cell_type": "markdown",
   "id": "908bc21f",
   "metadata": {},
   "source": [
    "### Exercise: discuss -- what's wrong with this plot?"
   ]
  },
  {
   "cell_type": "markdown",
   "id": "1d496e16",
   "metadata": {},
   "source": [
    "# 6. The PC-Relate Estimator\n",
    "\n",
    "Model info here."
   ]
  },
  {
   "cell_type": "code",
   "execution_count": null,
   "id": "7b493656",
   "metadata": {
    "scrolled": false
   },
   "outputs": [],
   "source": [
    "pcrel = hl.pc_relate(mt1.GT, 0.01, k=2)\n",
    "pcrel = pcrel.key_by(i=pcrel.i.sample_idx, j=pcrel.j.sample_idx)"
   ]
  },
  {
   "cell_type": "code",
   "execution_count": null,
   "id": "d83104a1",
   "metadata": {},
   "outputs": [],
   "source": [
    "pcrel.describe()"
   ]
  },
  {
   "cell_type": "code",
   "execution_count": null,
   "id": "2549060b",
   "metadata": {},
   "outputs": [],
   "source": [
    "fig = hl.plot.scatter(get_rel(pcrel.i, pcrel.j),\n",
    "                      pcrel.kin, xlabel='True kinship', ylabel='PC-Relate Kinship',\n",
    "                      hover_fields={'id1': pcrel.i, 'id2': pcrel.j})\n",
    "fig.add_layout(Slope(gradient=1, y_intercept=0, line_color='red', line_dash='dashed'))\n",
    "show(fig)"
   ]
  },
  {
   "cell_type": "markdown",
   "id": "f68c944c",
   "metadata": {},
   "source": [
    "### Exercise: detective work. Investigate the relationship between the individuals with kinship coefficient ~0.375.\n",
    "\n",
    "Some useful information is encoded in the column fields of `mt`. You can show specific samples by editing the below code.\n",
    "    \n",
    "If you've got time after finishing this, do the same for a pair in the cluster with relatedness ~0.185!"
   ]
  },
  {
   "cell_type": "code",
   "execution_count": null,
   "id": "c8e9ce67",
   "metadata": {},
   "outputs": [],
   "source": [
    "mt1.filter_cols(hl.literal([50, 100, 1000]).contains(mt1.sample_idx)).cols().show()"
   ]
  },
  {
   "cell_type": "markdown",
   "id": "69aa4e39",
   "metadata": {},
   "source": [
    "### Exercise: model interrogation. \n",
    "\n",
    "PC-Relate uses an explicit `k` term to control how many principal components are used to in individual allele frequency predictions. Your job is to rerun the above, starting from the **6** header, with various k values to interrogate how the number of principal components included affects the results.\n",
    "\n",
    "What **k** seems best? What happens when **k** is small? Large?"
   ]
  },
  {
   "cell_type": "code",
   "execution_count": null,
   "id": "63bea1f5",
   "metadata": {},
   "outputs": [],
   "source": []
  }
 ],
 "metadata": {
  "kernelspec": {
   "display_name": "Python 3 (ipykernel)",
   "language": "python",
   "name": "python3"
  },
  "language_info": {
   "codemirror_mode": {
    "name": "ipython",
    "version": 3
   },
   "file_extension": ".py",
   "mimetype": "text/x-python",
   "name": "python",
   "nbconvert_exporter": "python",
   "pygments_lexer": "ipython3",
   "version": "3.8.13"
  }
 },
 "nbformat": 4,
 "nbformat_minor": 5
}
